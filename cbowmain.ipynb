{
  "nbformat": 4,
  "nbformat_minor": 0,
  "metadata": {
    "colab": {
      "provenance": []
    },
    "kernelspec": {
      "name": "python3",
      "display_name": "Python 3"
    },
    "language_info": {
      "name": "python"
    }
  },
  "cells": [
    {
      "cell_type": "code",
      "execution_count": null,
      "metadata": {
        "id": "5tuNgygAKzF6"
      },
      "outputs": [],
      "source": [
        "import tensorflow as tf\n",
        "from keras.models import Sequential\n",
        "from keras.layers import Dense,Embedding, Lambda\n",
        "from keras.preprocessing.text import Tokenizer\n",
        "import numpy as np\n",
        "import matplotlib.pyplot as plt\n",
        "from sklearn.decomposition import PCA\n",
        "import re"
      ]
    },
    {
      "cell_type": "code",
      "source": [
        "data = \"\"\"We are about to study the idea of a computational process.\n",
        "Computational processes are abstract beings that inhabit computers.\n",
        "As they evolve, processes manipulate other abstract things called data.\n",
        "The evolution of a process is directed by a pattern of rules\n",
        "called a program. People create programs to direct processes. In effect,\n",
        "we conjure the spirits of the computer with our spells.\"\"\""
      ],
      "metadata": {
        "id": "LcJrCZFMK9lP"
      },
      "execution_count": null,
      "outputs": []
    },
    {
      "cell_type": "code",
      "source": [
        "# for importing data from txt file\n",
        "# with open(\"data.txt\", \"r\", encoding=\"utf-8\") as file:\n",
        "#     data = file.read()"
      ],
      "metadata": {
        "id": "QV6GtuTrK-Zx"
      },
      "execution_count": null,
      "outputs": []
    },
    {
      "cell_type": "code",
      "source": [
        "sentences = data.split(\".\")\n",
        "sentences"
      ],
      "metadata": {
        "colab": {
          "base_uri": "https://localhost:8080/"
        },
        "id": "a7TIwxHyLDKF",
        "outputId": "5f7956d0-7551-4798-d67b-bec5fc851bbd"
      },
      "execution_count": null,
      "outputs": [
        {
          "output_type": "execute_result",
          "data": {
            "text/plain": [
              "['We are about to study the idea of a computational process',\n",
              " '\\nComputational processes are abstract beings that inhabit computers',\n",
              " '\\nAs they evolve, processes manipulate other abstract things called data',\n",
              " '\\nThe evolution of a process is directed by a pattern of rules\\ncalled a program',\n",
              " ' People create programs to direct processes',\n",
              " ' In effect,\\nwe conjure the spirits of the computer with our spells',\n",
              " '']"
            ]
          },
          "metadata": {},
          "execution_count": 5
        }
      ]
    },
    {
      "cell_type": "code",
      "source": [
        "#Clean Data\n",
        "clean_sentences = []\n",
        "for sentence in sentences:\n",
        "    # skip empty string\n",
        "    if sentence == \"\":\n",
        "        continue;\n",
        "    # remove special characters\n",
        "    sentence = re.sub('[^A-Za-z0-9]+', ' ', sentence)\n",
        "    # remove 1 letter words\n",
        "    sentence = re.sub(r'(?:^| )\\w(?:$| )', ' ', sentence).strip()\n",
        "    # lower all characters\n",
        "    sentence = sentence.lower()\n",
        "    clean_sentences.append(sentence)"
      ],
      "metadata": {
        "id": "UpyA4kziLMnU"
      },
      "execution_count": null,
      "outputs": []
    },
    {
      "cell_type": "code",
      "source": [
        "clean_sentences"
      ],
      "metadata": {
        "colab": {
          "base_uri": "https://localhost:8080/"
        },
        "id": "UahOoirCLP5f",
        "outputId": "0df17fdd-3504-4f72-806e-fcb6732b9428"
      },
      "execution_count": null,
      "outputs": [
        {
          "output_type": "execute_result",
          "data": {
            "text/plain": [
              "['we are about to study the idea of computational process',\n",
              " 'computational processes are abstract beings that inhabit computers',\n",
              " 'as they evolve processes manipulate other abstract things called data',\n",
              " 'the evolution of process is directed by pattern of rules called program',\n",
              " 'people create programs to direct processes',\n",
              " 'in effect we conjure the spirits of the computer with our spells']"
            ]
          },
          "metadata": {},
          "execution_count": 7
        }
      ]
    },
    {
      "cell_type": "code",
      "source": [
        "# Define the corpus\n",
        "corpus = clean_sentences"
      ],
      "metadata": {
        "id": "jLM8P49bLUPW"
      },
      "execution_count": null,
      "outputs": []
    },
    {
      "cell_type": "code",
      "source": [
        "# Convert the corpus to a sequence of integers\n",
        "tokenizer = Tokenizer()\n",
        "tokenizer.fit_on_texts(corpus)\n",
        "sequences = tokenizer.texts_to_sequences(corpus)\n",
        "print(\"After converting our words in the corpus \\\n",
        "into vector of integers:\")\n",
        "print(sequences)"
      ],
      "metadata": {
        "colab": {
          "base_uri": "https://localhost:8080/"
        },
        "id": "rU7HpWkMLXhj",
        "outputId": "fb3f3115-0a3e-4b91-92ef-4f15c247c1c7"
      },
      "execution_count": null,
      "outputs": [
        {
          "output_type": "stream",
          "name": "stdout",
          "text": [
            "After converting our words in the corpus into vector of integers:\n",
            "[[4, 5, 11, 6, 12, 1, 13, 2, 7, 8], [7, 3, 5, 9, 14, 15, 16, 17], [18, 19, 20, 3, 21, 22, 9, 23, 10, 24], [1, 25, 2, 8, 26, 27, 28, 29, 2, 30, 10, 31], [32, 33, 34, 6, 35, 3], [36, 37, 4, 38, 1, 39, 2, 1, 40, 41, 42, 43]]\n"
          ]
        }
      ]
    },
    {
      "cell_type": "code",
      "source": [
        "# creating dictionary for word to index and index to word\n",
        "index_to_word_map = {}\n",
        "word_to_index_map = {}\n",
        "for index_1, sequence in enumerate(sequences):\n",
        "    print(sequence)\n",
        "    words_in_sentence = clean_sentences[index_1].split()\n",
        "    print(words_in_sentence)\n",
        "    for index_2, value in enumerate(sequence):\n",
        "        index_to_word_map[value] = words_in_sentence[index_2]\n",
        "        word_to_index_map[words_in_sentence[index_2]] = value"
      ],
      "metadata": {
        "colab": {
          "base_uri": "https://localhost:8080/"
        },
        "id": "jHdqcFmnLf41",
        "outputId": "81d05493-ba50-4c31-8885-7a4fd982d701"
      },
      "execution_count": null,
      "outputs": [
        {
          "output_type": "stream",
          "name": "stdout",
          "text": [
            "[4, 5, 11, 6, 12, 1, 13, 2, 7, 8]\n",
            "['we', 'are', 'about', 'to', 'study', 'the', 'idea', 'of', 'computational', 'process']\n",
            "[7, 3, 5, 9, 14, 15, 16, 17]\n",
            "['computational', 'processes', 'are', 'abstract', 'beings', 'that', 'inhabit', 'computers']\n",
            "[18, 19, 20, 3, 21, 22, 9, 23, 10, 24]\n",
            "['as', 'they', 'evolve', 'processes', 'manipulate', 'other', 'abstract', 'things', 'called', 'data']\n",
            "[1, 25, 2, 8, 26, 27, 28, 29, 2, 30, 10, 31]\n",
            "['the', 'evolution', 'of', 'process', 'is', 'directed', 'by', 'pattern', 'of', 'rules', 'called', 'program']\n",
            "[32, 33, 34, 6, 35, 3]\n",
            "['people', 'create', 'programs', 'to', 'direct', 'processes']\n",
            "[36, 37, 4, 38, 1, 39, 2, 1, 40, 41, 42, 43]\n",
            "['in', 'effect', 'we', 'conjure', 'the', 'spirits', 'of', 'the', 'computer', 'with', 'our', 'spells']\n"
          ]
        }
      ]
    },
    {
      "cell_type": "code",
      "source": [
        "print(index_to_word_map)\n",
        "print(\"\\n\")\n",
        "print(word_to_index_map)"
      ],
      "metadata": {
        "colab": {
          "base_uri": "https://localhost:8080/"
        },
        "id": "o8fambtzLjmi",
        "outputId": "7c0f2cf5-0004-48a9-d5fd-b892f842f56a"
      },
      "execution_count": null,
      "outputs": [
        {
          "output_type": "stream",
          "name": "stdout",
          "text": [
            "{4: 'we', 5: 'are', 11: 'about', 6: 'to', 12: 'study', 1: 'the', 13: 'idea', 2: 'of', 7: 'computational', 8: 'process', 3: 'processes', 9: 'abstract', 14: 'beings', 15: 'that', 16: 'inhabit', 17: 'computers', 18: 'as', 19: 'they', 20: 'evolve', 21: 'manipulate', 22: 'other', 23: 'things', 10: 'called', 24: 'data', 25: 'evolution', 26: 'is', 27: 'directed', 28: 'by', 29: 'pattern', 30: 'rules', 31: 'program', 32: 'people', 33: 'create', 34: 'programs', 35: 'direct', 36: 'in', 37: 'effect', 38: 'conjure', 39: 'spirits', 40: 'computer', 41: 'with', 42: 'our', 43: 'spells'}\n",
            "\n",
            "\n",
            "{'we': 4, 'are': 5, 'about': 11, 'to': 6, 'study': 12, 'the': 1, 'idea': 13, 'of': 2, 'computational': 7, 'process': 8, 'processes': 3, 'abstract': 9, 'beings': 14, 'that': 15, 'inhabit': 16, 'computers': 17, 'as': 18, 'they': 19, 'evolve': 20, 'manipulate': 21, 'other': 22, 'things': 23, 'called': 10, 'data': 24, 'evolution': 25, 'is': 26, 'directed': 27, 'by': 28, 'pattern': 29, 'rules': 30, 'program': 31, 'people': 32, 'create': 33, 'programs': 34, 'direct': 35, 'in': 36, 'effect': 37, 'conjure': 38, 'spirits': 39, 'computer': 40, 'with': 41, 'our': 42, 'spells': 43}\n"
          ]
        }
      ]
    },
    {
      "cell_type": "code",
      "source": [
        "# Define the parameters\n",
        "vocab_size = len(tokenizer.word_index) + 1\n",
        "embedding_size = 10\n",
        "window_size = 2\n",
        "\n",
        "# Generate the context-target pairs\n",
        "contexts = []\n",
        "targets = []\n",
        "for sequence in sequences:\n",
        "\tfor i in range(window_size, len(sequence) - window_size):\n",
        "\t\tcontext = sequence[i - window_size:i] + sequence[i + 1:i + window_size + 1]\n",
        "\t\ttarget = sequence[i]\n",
        "\t\tcontexts.append(context)\n",
        "\t\ttargets.append(target)"
      ],
      "metadata": {
        "id": "YEcintyMLmjb"
      },
      "execution_count": null,
      "outputs": []
    },
    {
      "cell_type": "code",
      "source": [
        "# sample of training data\n",
        "for i in range(5):\n",
        "    words = []\n",
        "    target = index_to_word_map.get(targets[i])\n",
        "    for j in contexts[i]:\n",
        "        words.append(index_to_word_map.get(j))\n",
        "    print(words, \"=>\", target)"
      ],
      "metadata": {
        "colab": {
          "base_uri": "https://localhost:8080/"
        },
        "id": "i1yZTRTsLpeC",
        "outputId": "2c51e9b3-8cda-421b-e678-012df4dea5b9"
      },
      "execution_count": null,
      "outputs": [
        {
          "output_type": "stream",
          "name": "stdout",
          "text": [
            "['we', 'are', 'to', 'study'] => about\n",
            "['are', 'about', 'study', 'the'] => to\n",
            "['about', 'to', 'the', 'idea'] => study\n",
            "['to', 'study', 'idea', 'of'] => the\n",
            "['study', 'the', 'of', 'computational'] => idea\n"
          ]
        }
      ]
    },
    {
      "cell_type": "code",
      "source": [
        "X = np.array(contexts)\n",
        "Y = np.array(targets)"
      ],
      "metadata": {
        "id": "w9p7pbtKLtIe"
      },
      "execution_count": null,
      "outputs": []
    },
    {
      "cell_type": "code",
      "source": [
        "model = Sequential()\n",
        "model.add(Embedding(input_dim=vocab_size, output_dim=embedding_size, input_length=2 * window_size))\n",
        "model.add(Lambda(lambda x: tf.reduce_mean(x, axis=1)))\n",
        "model.add(Dense(256, activation='relu'))\n",
        "model.add(Dense(512, activation='relu'))\n",
        "model.add(Dense(units=vocab_size, activation='softmax'))\n",
        "\n",
        "# Compile the model\n",
        "model.compile(loss='sparse_categorical_crossentropy', optimizer='adam', metrics=['accuracy'])\n",
        "\n",
        "# Train the model\n",
        "model.fit(X, Y, epochs=200, verbose=1)"
      ],
      "metadata": {
        "colab": {
          "base_uri": "https://localhost:8080/"
        },
        "id": "6P08LfnHLwsr",
        "outputId": "cb26b2b2-75e3-4703-bc37-3cdc5989fedd"
      },
      "execution_count": null,
      "outputs": [
        {
          "output_type": "stream",
          "name": "stdout",
          "text": [
            "Epoch 1/200\n",
            "2/2 [==============================] - 3s 24ms/step - loss: 3.7845 - accuracy: 0.0588\n",
            "Epoch 2/200\n",
            "2/2 [==============================] - 0s 14ms/step - loss: 3.7755 - accuracy: 0.2059\n",
            "Epoch 3/200\n",
            "2/2 [==============================] - 0s 63ms/step - loss: 3.7697 - accuracy: 0.2059\n",
            "Epoch 4/200\n",
            "2/2 [==============================] - 0s 21ms/step - loss: 3.7628 - accuracy: 0.2353\n",
            "Epoch 5/200\n",
            "2/2 [==============================] - 0s 39ms/step - loss: 3.7549 - accuracy: 0.2353\n",
            "Epoch 6/200\n",
            "2/2 [==============================] - 0s 15ms/step - loss: 3.7454 - accuracy: 0.2353\n",
            "Epoch 7/200\n",
            "2/2 [==============================] - 0s 25ms/step - loss: 3.7354 - accuracy: 0.2353\n",
            "Epoch 8/200\n",
            "2/2 [==============================] - 0s 22ms/step - loss: 3.7227 - accuracy: 0.2059\n",
            "Epoch 9/200\n",
            "2/2 [==============================] - 0s 33ms/step - loss: 3.7083 - accuracy: 0.2059\n",
            "Epoch 10/200\n",
            "2/2 [==============================] - 0s 14ms/step - loss: 3.6908 - accuracy: 0.1765\n",
            "Epoch 11/200\n",
            "2/2 [==============================] - 0s 32ms/step - loss: 3.6696 - accuracy: 0.2353\n",
            "Epoch 12/200\n",
            "2/2 [==============================] - 0s 25ms/step - loss: 3.6438 - accuracy: 0.1471\n",
            "Epoch 13/200\n",
            "2/2 [==============================] - 0s 14ms/step - loss: 3.6141 - accuracy: 0.1471\n",
            "Epoch 14/200\n",
            "2/2 [==============================] - 0s 20ms/step - loss: 3.5789 - accuracy: 0.1471\n",
            "Epoch 15/200\n",
            "2/2 [==============================] - 0s 15ms/step - loss: 3.5367 - accuracy: 0.1471\n",
            "Epoch 16/200\n",
            "2/2 [==============================] - 0s 16ms/step - loss: 3.4900 - accuracy: 0.1471\n",
            "Epoch 17/200\n",
            "2/2 [==============================] - 0s 20ms/step - loss: 3.4416 - accuracy: 0.1176\n",
            "Epoch 18/200\n",
            "2/2 [==============================] - 0s 13ms/step - loss: 3.3844 - accuracy: 0.1176\n",
            "Epoch 19/200\n",
            "2/2 [==============================] - 0s 14ms/step - loss: 3.3268 - accuracy: 0.1176\n",
            "Epoch 20/200\n",
            "2/2 [==============================] - 0s 15ms/step - loss: 3.2673 - accuracy: 0.1176\n",
            "Epoch 21/200\n",
            "2/2 [==============================] - 0s 13ms/step - loss: 3.2070 - accuracy: 0.1471\n",
            "Epoch 22/200\n",
            "2/2 [==============================] - 0s 22ms/step - loss: 3.1419 - accuracy: 0.1471\n",
            "Epoch 23/200\n",
            "2/2 [==============================] - 0s 24ms/step - loss: 3.0865 - accuracy: 0.1471\n",
            "Epoch 24/200\n",
            "2/2 [==============================] - 0s 13ms/step - loss: 3.0431 - accuracy: 0.1176\n",
            "Epoch 25/200\n",
            "2/2 [==============================] - 0s 31ms/step - loss: 3.0089 - accuracy: 0.1176\n",
            "Epoch 26/200\n",
            "2/2 [==============================] - 0s 23ms/step - loss: 2.9727 - accuracy: 0.1176\n",
            "Epoch 27/200\n",
            "2/2 [==============================] - 0s 13ms/step - loss: 2.9398 - accuracy: 0.1176\n",
            "Epoch 28/200\n",
            "2/2 [==============================] - 0s 17ms/step - loss: 2.9049 - accuracy: 0.1765\n",
            "Epoch 29/200\n",
            "2/2 [==============================] - 0s 13ms/step - loss: 2.8632 - accuracy: 0.2059\n",
            "Epoch 30/200\n",
            "2/2 [==============================] - 0s 17ms/step - loss: 2.8174 - accuracy: 0.2059\n",
            "Epoch 31/200\n",
            "2/2 [==============================] - 0s 24ms/step - loss: 2.7822 - accuracy: 0.2353\n",
            "Epoch 32/200\n",
            "2/2 [==============================] - 0s 21ms/step - loss: 2.7495 - accuracy: 0.2353\n",
            "Epoch 33/200\n",
            "2/2 [==============================] - 0s 22ms/step - loss: 2.7160 - accuracy: 0.2059\n",
            "Epoch 34/200\n",
            "2/2 [==============================] - 0s 16ms/step - loss: 2.6820 - accuracy: 0.2353\n",
            "Epoch 35/200\n",
            "2/2 [==============================] - 0s 19ms/step - loss: 2.6545 - accuracy: 0.2353\n",
            "Epoch 36/200\n",
            "2/2 [==============================] - 0s 19ms/step - loss: 2.6294 - accuracy: 0.2353\n",
            "Epoch 37/200\n",
            "2/2 [==============================] - 0s 33ms/step - loss: 2.6026 - accuracy: 0.2059\n",
            "Epoch 38/200\n",
            "2/2 [==============================] - 0s 21ms/step - loss: 2.5775 - accuracy: 0.2059\n",
            "Epoch 39/200\n",
            "2/2 [==============================] - 0s 27ms/step - loss: 2.5588 - accuracy: 0.2059\n",
            "Epoch 40/200\n",
            "2/2 [==============================] - 0s 28ms/step - loss: 2.5434 - accuracy: 0.2059\n",
            "Epoch 41/200\n",
            "2/2 [==============================] - 0s 41ms/step - loss: 2.5270 - accuracy: 0.2059\n",
            "Epoch 42/200\n",
            "2/2 [==============================] - 0s 27ms/step - loss: 2.5125 - accuracy: 0.2353\n",
            "Epoch 43/200\n",
            "2/2 [==============================] - 0s 27ms/step - loss: 2.4960 - accuracy: 0.2647\n",
            "Epoch 44/200\n",
            "2/2 [==============================] - 0s 28ms/step - loss: 2.4798 - accuracy: 0.2353\n",
            "Epoch 45/200\n",
            "2/2 [==============================] - 0s 31ms/step - loss: 2.4653 - accuracy: 0.2059\n",
            "Epoch 46/200\n",
            "2/2 [==============================] - 0s 30ms/step - loss: 2.4527 - accuracy: 0.1471\n",
            "Epoch 47/200\n",
            "2/2 [==============================] - 0s 26ms/step - loss: 2.4295 - accuracy: 0.1471\n",
            "Epoch 48/200\n",
            "2/2 [==============================] - 0s 21ms/step - loss: 2.4098 - accuracy: 0.1765\n",
            "Epoch 49/200\n",
            "2/2 [==============================] - 0s 22ms/step - loss: 2.3830 - accuracy: 0.2059\n",
            "Epoch 50/200\n",
            "2/2 [==============================] - 0s 39ms/step - loss: 2.3529 - accuracy: 0.2941\n",
            "Epoch 51/200\n",
            "2/2 [==============================] - 0s 31ms/step - loss: 2.3291 - accuracy: 0.2941\n",
            "Epoch 52/200\n",
            "2/2 [==============================] - 0s 17ms/step - loss: 2.3139 - accuracy: 0.3529\n",
            "Epoch 53/200\n",
            "2/2 [==============================] - 0s 13ms/step - loss: 2.2974 - accuracy: 0.3235\n",
            "Epoch 54/200\n",
            "2/2 [==============================] - 0s 16ms/step - loss: 2.2825 - accuracy: 0.2941\n",
            "Epoch 55/200\n",
            "2/2 [==============================] - 0s 15ms/step - loss: 2.2631 - accuracy: 0.2647\n",
            "Epoch 56/200\n",
            "2/2 [==============================] - 0s 14ms/step - loss: 2.2504 - accuracy: 0.2353\n",
            "Epoch 57/200\n",
            "2/2 [==============================] - 0s 15ms/step - loss: 2.2387 - accuracy: 0.2353\n",
            "Epoch 58/200\n",
            "2/2 [==============================] - 0s 15ms/step - loss: 2.2346 - accuracy: 0.2647\n",
            "Epoch 59/200\n",
            "2/2 [==============================] - 0s 15ms/step - loss: 2.2296 - accuracy: 0.2647\n",
            "Epoch 60/200\n",
            "2/2 [==============================] - 0s 18ms/step - loss: 2.2122 - accuracy: 0.2647\n",
            "Epoch 61/200\n",
            "2/2 [==============================] - 0s 17ms/step - loss: 2.1908 - accuracy: 0.2647\n",
            "Epoch 62/200\n",
            "2/2 [==============================] - 0s 16ms/step - loss: 2.1647 - accuracy: 0.3235\n",
            "Epoch 63/200\n",
            "2/2 [==============================] - 0s 15ms/step - loss: 2.1396 - accuracy: 0.3235\n",
            "Epoch 64/200\n",
            "2/2 [==============================] - 0s 23ms/step - loss: 2.1045 - accuracy: 0.3235\n",
            "Epoch 65/200\n",
            "2/2 [==============================] - 0s 15ms/step - loss: 2.0678 - accuracy: 0.3235\n",
            "Epoch 66/200\n",
            "2/2 [==============================] - 0s 16ms/step - loss: 2.0339 - accuracy: 0.3529\n",
            "Epoch 67/200\n",
            "2/2 [==============================] - 0s 15ms/step - loss: 2.0183 - accuracy: 0.3529\n",
            "Epoch 68/200\n",
            "2/2 [==============================] - 0s 23ms/step - loss: 2.0029 - accuracy: 0.3824\n",
            "Epoch 69/200\n",
            "2/2 [==============================] - 0s 15ms/step - loss: 1.9857 - accuracy: 0.3824\n",
            "Epoch 70/200\n",
            "2/2 [==============================] - 0s 15ms/step - loss: 1.9728 - accuracy: 0.3824\n",
            "Epoch 71/200\n",
            "2/2 [==============================] - 0s 21ms/step - loss: 1.9653 - accuracy: 0.3824\n",
            "Epoch 72/200\n",
            "2/2 [==============================] - 0s 15ms/step - loss: 1.9505 - accuracy: 0.3529\n",
            "Epoch 73/200\n",
            "2/2 [==============================] - 0s 15ms/step - loss: 1.9402 - accuracy: 0.3529\n",
            "Epoch 74/200\n",
            "2/2 [==============================] - 0s 25ms/step - loss: 1.9255 - accuracy: 0.3824\n",
            "Epoch 75/200\n",
            "2/2 [==============================] - 0s 15ms/step - loss: 1.9108 - accuracy: 0.3824\n",
            "Epoch 76/200\n",
            "2/2 [==============================] - 0s 15ms/step - loss: 1.8869 - accuracy: 0.3824\n",
            "Epoch 77/200\n",
            "2/2 [==============================] - 0s 16ms/step - loss: 1.8510 - accuracy: 0.3824\n",
            "Epoch 78/200\n",
            "2/2 [==============================] - 0s 14ms/step - loss: 1.8191 - accuracy: 0.4706\n",
            "Epoch 79/200\n",
            "2/2 [==============================] - 0s 21ms/step - loss: 1.7807 - accuracy: 0.5000\n",
            "Epoch 80/200\n",
            "2/2 [==============================] - 0s 19ms/step - loss: 1.7518 - accuracy: 0.5000\n",
            "Epoch 81/200\n",
            "2/2 [==============================] - 0s 17ms/step - loss: 1.7220 - accuracy: 0.4706\n",
            "Epoch 82/200\n",
            "2/2 [==============================] - 0s 17ms/step - loss: 1.6983 - accuracy: 0.4706\n",
            "Epoch 83/200\n",
            "2/2 [==============================] - 0s 19ms/step - loss: 1.6860 - accuracy: 0.4706\n",
            "Epoch 84/200\n",
            "2/2 [==============================] - 0s 16ms/step - loss: 1.6823 - accuracy: 0.4706\n",
            "Epoch 85/200\n",
            "2/2 [==============================] - 0s 14ms/step - loss: 1.6761 - accuracy: 0.4412\n",
            "Epoch 86/200\n",
            "2/2 [==============================] - 0s 14ms/step - loss: 1.6663 - accuracy: 0.4412\n",
            "Epoch 87/200\n",
            "2/2 [==============================] - 0s 13ms/step - loss: 1.6461 - accuracy: 0.4706\n",
            "Epoch 88/200\n",
            "2/2 [==============================] - 0s 14ms/step - loss: 1.6167 - accuracy: 0.5000\n",
            "Epoch 89/200\n",
            "2/2 [==============================] - 0s 35ms/step - loss: 1.5904 - accuracy: 0.5588\n",
            "Epoch 90/200\n",
            "2/2 [==============================] - 0s 37ms/step - loss: 1.5720 - accuracy: 0.5588\n",
            "Epoch 91/200\n",
            "2/2 [==============================] - 0s 31ms/step - loss: 1.5682 - accuracy: 0.5588\n",
            "Epoch 92/200\n",
            "2/2 [==============================] - 0s 18ms/step - loss: 1.5551 - accuracy: 0.5294\n",
            "Epoch 93/200\n",
            "2/2 [==============================] - 0s 12ms/step - loss: 1.5346 - accuracy: 0.5588\n",
            "Epoch 94/200\n",
            "2/2 [==============================] - 0s 15ms/step - loss: 1.5145 - accuracy: 0.5294\n",
            "Epoch 95/200\n",
            "2/2 [==============================] - 0s 18ms/step - loss: 1.4881 - accuracy: 0.4706\n",
            "Epoch 96/200\n",
            "2/2 [==============================] - 0s 13ms/step - loss: 1.4447 - accuracy: 0.5294\n",
            "Epoch 97/200\n",
            "2/2 [==============================] - 0s 16ms/step - loss: 1.4104 - accuracy: 0.5882\n",
            "Epoch 98/200\n",
            "2/2 [==============================] - 0s 23ms/step - loss: 1.3797 - accuracy: 0.6471\n",
            "Epoch 99/200\n",
            "2/2 [==============================] - 0s 16ms/step - loss: 1.3535 - accuracy: 0.7353\n",
            "Epoch 100/200\n",
            "2/2 [==============================] - 0s 24ms/step - loss: 1.3433 - accuracy: 0.7059\n",
            "Epoch 101/200\n",
            "2/2 [==============================] - 0s 27ms/step - loss: 1.3288 - accuracy: 0.6471\n",
            "Epoch 102/200\n",
            "2/2 [==============================] - 0s 19ms/step - loss: 1.3088 - accuracy: 0.6176\n",
            "Epoch 103/200\n",
            "2/2 [==============================] - 0s 15ms/step - loss: 1.3008 - accuracy: 0.6471\n",
            "Epoch 104/200\n",
            "2/2 [==============================] - 0s 22ms/step - loss: 1.2884 - accuracy: 0.6176\n",
            "Epoch 105/200\n",
            "2/2 [==============================] - 0s 21ms/step - loss: 1.2912 - accuracy: 0.5882\n",
            "Epoch 106/200\n",
            "2/2 [==============================] - 0s 13ms/step - loss: 1.2885 - accuracy: 0.6176\n",
            "Epoch 107/200\n",
            "2/2 [==============================] - 0s 13ms/step - loss: 1.2774 - accuracy: 0.6471\n",
            "Epoch 108/200\n",
            "2/2 [==============================] - 0s 17ms/step - loss: 1.2516 - accuracy: 0.5882\n",
            "Epoch 109/200\n",
            "2/2 [==============================] - 0s 18ms/step - loss: 1.2229 - accuracy: 0.5588\n",
            "Epoch 110/200\n",
            "2/2 [==============================] - 0s 22ms/step - loss: 1.1874 - accuracy: 0.5882\n",
            "Epoch 111/200\n",
            "2/2 [==============================] - 0s 23ms/step - loss: 1.1599 - accuracy: 0.6176\n",
            "Epoch 112/200\n",
            "2/2 [==============================] - 0s 13ms/step - loss: 1.1312 - accuracy: 0.6471\n",
            "Epoch 113/200\n",
            "2/2 [==============================] - 0s 14ms/step - loss: 1.1132 - accuracy: 0.6471\n",
            "Epoch 114/200\n",
            "2/2 [==============================] - 0s 15ms/step - loss: 1.1061 - accuracy: 0.6176\n",
            "Epoch 115/200\n",
            "2/2 [==============================] - 0s 15ms/step - loss: 1.0988 - accuracy: 0.6471\n",
            "Epoch 116/200\n",
            "2/2 [==============================] - 0s 15ms/step - loss: 1.0927 - accuracy: 0.6471\n",
            "Epoch 117/200\n",
            "2/2 [==============================] - 0s 15ms/step - loss: 1.0789 - accuracy: 0.6765\n",
            "Epoch 118/200\n",
            "2/2 [==============================] - 0s 14ms/step - loss: 1.0423 - accuracy: 0.6471\n",
            "Epoch 119/200\n",
            "2/2 [==============================] - 0s 17ms/step - loss: 0.9988 - accuracy: 0.6765\n",
            "Epoch 120/200\n",
            "2/2 [==============================] - 0s 16ms/step - loss: 0.9738 - accuracy: 0.6765\n",
            "Epoch 121/200\n",
            "2/2 [==============================] - 0s 31ms/step - loss: 0.9560 - accuracy: 0.7059\n",
            "Epoch 122/200\n",
            "2/2 [==============================] - 0s 14ms/step - loss: 0.9433 - accuracy: 0.7059\n",
            "Epoch 123/200\n",
            "2/2 [==============================] - 0s 13ms/step - loss: 0.9242 - accuracy: 0.7059\n",
            "Epoch 124/200\n",
            "2/2 [==============================] - 0s 14ms/step - loss: 0.9049 - accuracy: 0.7059\n",
            "Epoch 125/200\n",
            "2/2 [==============================] - 0s 12ms/step - loss: 0.8795 - accuracy: 0.8529\n",
            "Epoch 126/200\n",
            "2/2 [==============================] - 0s 14ms/step - loss: 0.8603 - accuracy: 0.8529\n",
            "Epoch 127/200\n",
            "2/2 [==============================] - 0s 17ms/step - loss: 0.8460 - accuracy: 0.8529\n",
            "Epoch 128/200\n",
            "2/2 [==============================] - 0s 15ms/step - loss: 0.8446 - accuracy: 0.8529\n",
            "Epoch 129/200\n",
            "2/2 [==============================] - 0s 14ms/step - loss: 0.8395 - accuracy: 0.7353\n",
            "Epoch 130/200\n",
            "2/2 [==============================] - 0s 17ms/step - loss: 0.8121 - accuracy: 0.7941\n",
            "Epoch 131/200\n",
            "2/2 [==============================] - 0s 19ms/step - loss: 0.7706 - accuracy: 0.8529\n",
            "Epoch 132/200\n",
            "2/2 [==============================] - 0s 18ms/step - loss: 0.7368 - accuracy: 0.8824\n",
            "Epoch 133/200\n",
            "2/2 [==============================] - 0s 15ms/step - loss: 0.7174 - accuracy: 0.8824\n",
            "Epoch 134/200\n",
            "2/2 [==============================] - 0s 16ms/step - loss: 0.7069 - accuracy: 0.8529\n",
            "Epoch 135/200\n",
            "2/2 [==============================] - 0s 20ms/step - loss: 0.7007 - accuracy: 0.8529\n",
            "Epoch 136/200\n",
            "2/2 [==============================] - 0s 19ms/step - loss: 0.6923 - accuracy: 0.8529\n",
            "Epoch 137/200\n",
            "2/2 [==============================] - 0s 28ms/step - loss: 0.6754 - accuracy: 0.8529\n",
            "Epoch 138/200\n",
            "2/2 [==============================] - 0s 18ms/step - loss: 0.6525 - accuracy: 0.8529\n",
            "Epoch 139/200\n",
            "2/2 [==============================] - 0s 17ms/step - loss: 0.6339 - accuracy: 0.8824\n",
            "Epoch 140/200\n",
            "2/2 [==============================] - 0s 19ms/step - loss: 0.6193 - accuracy: 0.8529\n",
            "Epoch 141/200\n",
            "2/2 [==============================] - 0s 17ms/step - loss: 0.6089 - accuracy: 0.8824\n",
            "Epoch 142/200\n",
            "2/2 [==============================] - 0s 16ms/step - loss: 0.6030 - accuracy: 0.8824\n",
            "Epoch 143/200\n",
            "2/2 [==============================] - 0s 15ms/step - loss: 0.5909 - accuracy: 0.8824\n",
            "Epoch 144/200\n",
            "2/2 [==============================] - 0s 16ms/step - loss: 0.5767 - accuracy: 0.9118\n",
            "Epoch 145/200\n",
            "2/2 [==============================] - 0s 19ms/step - loss: 0.5700 - accuracy: 0.9118\n",
            "Epoch 146/200\n",
            "2/2 [==============================] - 0s 17ms/step - loss: 0.5577 - accuracy: 0.9118\n",
            "Epoch 147/200\n",
            "2/2 [==============================] - 0s 23ms/step - loss: 0.5459 - accuracy: 0.8529\n",
            "Epoch 148/200\n",
            "2/2 [==============================] - 0s 24ms/step - loss: 0.5388 - accuracy: 0.8529\n",
            "Epoch 149/200\n",
            "2/2 [==============================] - 0s 24ms/step - loss: 0.5318 - accuracy: 0.8235\n",
            "Epoch 150/200\n",
            "2/2 [==============================] - 0s 16ms/step - loss: 0.5283 - accuracy: 0.8235\n",
            "Epoch 151/200\n",
            "2/2 [==============================] - 0s 26ms/step - loss: 0.5224 - accuracy: 0.8235\n",
            "Epoch 152/200\n",
            "2/2 [==============================] - 0s 16ms/step - loss: 0.5092 - accuracy: 0.8529\n",
            "Epoch 153/200\n",
            "2/2 [==============================] - 0s 15ms/step - loss: 0.4878 - accuracy: 0.8824\n",
            "Epoch 154/200\n",
            "2/2 [==============================] - 0s 16ms/step - loss: 0.4578 - accuracy: 0.9118\n",
            "Epoch 155/200\n",
            "2/2 [==============================] - 0s 15ms/step - loss: 0.4467 - accuracy: 0.9412\n",
            "Epoch 156/200\n",
            "2/2 [==============================] - 0s 16ms/step - loss: 0.4581 - accuracy: 0.9118\n",
            "Epoch 157/200\n",
            "2/2 [==============================] - 0s 11ms/step - loss: 0.4628 - accuracy: 0.9118\n",
            "Epoch 158/200\n",
            "2/2 [==============================] - 0s 12ms/step - loss: 0.4600 - accuracy: 0.9412\n",
            "Epoch 159/200\n",
            "2/2 [==============================] - 0s 11ms/step - loss: 0.4502 - accuracy: 0.9118\n",
            "Epoch 160/200\n",
            "2/2 [==============================] - 0s 11ms/step - loss: 0.4308 - accuracy: 0.9118\n",
            "Epoch 161/200\n",
            "2/2 [==============================] - 0s 11ms/step - loss: 0.4076 - accuracy: 0.9118\n",
            "Epoch 162/200\n",
            "2/2 [==============================] - 0s 10ms/step - loss: 0.3874 - accuracy: 0.9412\n",
            "Epoch 163/200\n",
            "2/2 [==============================] - 0s 14ms/step - loss: 0.3736 - accuracy: 0.9412\n",
            "Epoch 164/200\n",
            "2/2 [==============================] - 0s 12ms/step - loss: 0.3602 - accuracy: 0.9412\n",
            "Epoch 165/200\n",
            "2/2 [==============================] - 0s 11ms/step - loss: 0.3538 - accuracy: 0.9412\n",
            "Epoch 166/200\n",
            "2/2 [==============================] - 0s 10ms/step - loss: 0.3467 - accuracy: 0.9412\n",
            "Epoch 167/200\n",
            "2/2 [==============================] - 0s 12ms/step - loss: 0.3367 - accuracy: 0.9706\n",
            "Epoch 168/200\n",
            "2/2 [==============================] - 0s 11ms/step - loss: 0.3229 - accuracy: 0.9706\n",
            "Epoch 169/200\n",
            "2/2 [==============================] - 0s 10ms/step - loss: 0.3091 - accuracy: 0.9706\n",
            "Epoch 170/200\n",
            "2/2 [==============================] - 0s 13ms/step - loss: 0.3006 - accuracy: 0.9706\n",
            "Epoch 171/200\n",
            "2/2 [==============================] - 0s 11ms/step - loss: 0.2988 - accuracy: 0.9706\n",
            "Epoch 172/200\n",
            "2/2 [==============================] - 0s 12ms/step - loss: 0.3021 - accuracy: 0.9706\n",
            "Epoch 173/200\n",
            "2/2 [==============================] - 0s 12ms/step - loss: 0.3064 - accuracy: 0.9412\n",
            "Epoch 174/200\n",
            "2/2 [==============================] - 0s 12ms/step - loss: 0.3044 - accuracy: 0.9412\n",
            "Epoch 175/200\n",
            "2/2 [==============================] - 0s 12ms/step - loss: 0.2871 - accuracy: 0.9412\n",
            "Epoch 176/200\n",
            "2/2 [==============================] - 0s 11ms/step - loss: 0.2742 - accuracy: 0.9706\n",
            "Epoch 177/200\n",
            "2/2 [==============================] - 0s 12ms/step - loss: 0.2683 - accuracy: 0.9706\n",
            "Epoch 178/200\n",
            "2/2 [==============================] - 0s 11ms/step - loss: 0.2545 - accuracy: 0.9706\n",
            "Epoch 179/200\n",
            "2/2 [==============================] - 0s 12ms/step - loss: 0.2378 - accuracy: 0.9706\n",
            "Epoch 180/200\n",
            "2/2 [==============================] - 0s 10ms/step - loss: 0.2263 - accuracy: 0.9706\n",
            "Epoch 181/200\n",
            "2/2 [==============================] - 0s 12ms/step - loss: 0.2175 - accuracy: 1.0000\n",
            "Epoch 182/200\n",
            "2/2 [==============================] - 0s 24ms/step - loss: 0.2124 - accuracy: 1.0000\n",
            "Epoch 183/200\n",
            "2/2 [==============================] - 0s 19ms/step - loss: 0.2101 - accuracy: 1.0000\n",
            "Epoch 184/200\n",
            "2/2 [==============================] - 0s 22ms/step - loss: 0.2075 - accuracy: 1.0000\n",
            "Epoch 185/200\n",
            "2/2 [==============================] - 0s 16ms/step - loss: 0.2062 - accuracy: 1.0000\n",
            "Epoch 186/200\n",
            "2/2 [==============================] - 0s 20ms/step - loss: 0.2067 - accuracy: 0.9706\n",
            "Epoch 187/200\n",
            "2/2 [==============================] - 0s 20ms/step - loss: 0.2049 - accuracy: 0.9706\n",
            "Epoch 188/200\n",
            "2/2 [==============================] - 0s 18ms/step - loss: 0.2027 - accuracy: 0.9706\n",
            "Epoch 189/200\n",
            "2/2 [==============================] - 0s 14ms/step - loss: 0.2012 - accuracy: 0.9706\n",
            "Epoch 190/200\n",
            "2/2 [==============================] - 0s 14ms/step - loss: 0.1989 - accuracy: 0.9706\n",
            "Epoch 191/200\n",
            "2/2 [==============================] - 0s 18ms/step - loss: 0.1906 - accuracy: 0.9706\n",
            "Epoch 192/200\n",
            "2/2 [==============================] - 0s 15ms/step - loss: 0.1819 - accuracy: 0.9706\n",
            "Epoch 193/200\n",
            "2/2 [==============================] - 0s 15ms/step - loss: 0.1760 - accuracy: 0.9706\n",
            "Epoch 194/200\n",
            "2/2 [==============================] - 0s 15ms/step - loss: 0.1701 - accuracy: 0.9706\n",
            "Epoch 195/200\n",
            "2/2 [==============================] - 0s 16ms/step - loss: 0.1623 - accuracy: 1.0000\n",
            "Epoch 196/200\n",
            "2/2 [==============================] - 0s 21ms/step - loss: 0.1538 - accuracy: 1.0000\n",
            "Epoch 197/200\n",
            "2/2 [==============================] - 0s 15ms/step - loss: 0.1486 - accuracy: 1.0000\n",
            "Epoch 198/200\n",
            "2/2 [==============================] - 0s 17ms/step - loss: 0.1439 - accuracy: 0.9706\n",
            "Epoch 199/200\n",
            "2/2 [==============================] - 0s 21ms/step - loss: 0.1424 - accuracy: 0.9706\n",
            "Epoch 200/200\n",
            "2/2 [==============================] - 0s 15ms/step - loss: 0.1339 - accuracy: 0.9706\n"
          ]
        },
        {
          "output_type": "execute_result",
          "data": {
            "text/plain": [
              "<keras.src.callbacks.History at 0x7a94043b2590>"
            ]
          },
          "metadata": {},
          "execution_count": 15
        }
      ]
    },
    {
      "cell_type": "code",
      "source": [
        "embeddings = model.get_weights()[0]\n",
        "\n",
        "# Perform PCA to reduce the dimensionality of the embeddings\n",
        "pca = PCA(n_components=2)\n",
        "reduced_embeddings = pca.fit_transform(embeddings)"
      ],
      "metadata": {
        "id": "VoEGR7EYL1lt"
      },
      "execution_count": null,
      "outputs": []
    },
    {
      "cell_type": "code",
      "source": [
        "# Visualize the embeddings\n",
        "plt.figure(figsize=(7, 7))\n",
        "for i, word in enumerate(tokenizer.word_index.keys()):\n",
        "    x, y = reduced_embeddings[i]\n",
        "    plt.scatter(x, y)\n",
        "    plt.annotate(word, xy=(x, y), xytext=(5, 2),\n",
        "                 textcoords='offset points',\n",
        "                 ha='right', va='bottom')\n",
        "plt.show()\n"
      ],
      "metadata": {
        "colab": {
          "base_uri": "https://localhost:8080/",
          "height": 605
        },
        "id": "aGDSPovaMCn5",
        "outputId": "05e636b8-f4ff-4b73-ee25-a67c8b1e31ca"
      },
      "execution_count": null,
      "outputs": [
        {
          "output_type": "display_data",
          "data": {
            "text/plain": [
              "<Figure size 700x700 with 1 Axes>"
            ],
            "image/png": "[encoded data removed]"
          },
          "metadata": {}
        }
      ]
    },
    {
      "cell_type": "code",
      "source": [
        "test_sentenses = [\n",
        "    \"we are to study\",\n",
        "    \"create programs direct processes\",\n",
        "    \"spirits process study program\",\n",
        "    \"idea study people create\"\n",
        "]"
      ],
      "metadata": {
        "id": "1u-G7rd-MLwa"
      },
      "execution_count": null,
      "outputs": []
    },
    {
      "cell_type": "code",
      "source": [
        "for test_sentense in test_sentenses:\n",
        "    test_words = test_sentense.split(\" \")\n",
        "    print(\"Words: \", test_words)\n",
        "    x_test = []\n",
        "    for i in test_words:\n",
        "        x_test.append(word_to_index_map.get(i))\n",
        "    x_test = np.array([x_test])\n",
        "    print(\"Indexs: \", x_test)\n",
        "    test_predictions = model.predict(x_test)\n",
        "    y_pred = np.argmax(test_predictions[0])\n",
        "    print(\"Predictons: \",test_words, \" => \", index_to_word_map.get(y_pred))\n",
        "    print(\"\\n\")"
      ],
      "metadata": {
        "colab": {
          "base_uri": "https://localhost:8080/"
        },
        "id": "T9GK7fCBMPDh",
        "outputId": "0327cd61-1b73-43ef-a4f6-bcbb3e76ad13"
      },
      "execution_count": null,
      "outputs": [
        {
          "output_type": "stream",
          "name": "stdout",
          "text": [
            "Words:  ['we', 'are', 'to', 'study']\n",
            "Indexs:  [[ 4  5  6 12]]\n",
            "1/1 [==============================] - 0s 235ms/step\n",
            "Predictons:  ['we', 'are', 'to', 'study']  =>  about\n",
            "\n",
            "\n",
            "Words:  ['create', 'programs', 'direct', 'processes']\n",
            "Indexs:  [[33 34 35  3]]\n",
            "1/1 [==============================] - 0s 39ms/step\n",
            "Predictons:  ['create', 'programs', 'direct', 'processes']  =>  to\n",
            "\n",
            "\n",
            "Words:  ['spirits', 'process', 'study', 'program']\n",
            "Indexs:  [[39  8 12 31]]\n",
            "1/1 [==============================] - 0s 101ms/step\n",
            "Predictons:  ['spirits', 'process', 'study', 'program']  =>  idea\n",
            "\n",
            "\n",
            "Words:  ['idea', 'study', 'people', 'create']\n",
            "Indexs:  [[13 12 32 33]]\n",
            "1/1 [==============================] - 0s 43ms/step\n",
            "Predictons:  ['idea', 'study', 'people', 'create']  =>  about\n",
            "\n",
            "\n"
          ]
        }
      ]
    }
  ]
}