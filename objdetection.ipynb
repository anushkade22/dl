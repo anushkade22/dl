{
 "cells": [
  {
   "cell_type": "code",
   "execution_count": 25,
   "id": "85578a93",
   "metadata": {},
   "outputs": [],
   "source": [
    "import tensorflow as tf\n",
    "from tensorflow import keras\n",
    "from tensorflow.keras.applications import VGG16\n",
    "from tensorflow.keras.models import Model\n",
    "from tensorflow.keras.layers import Dense, Flatten\n",
    "from tensorflow.keras.optimizers import Adam\n",
    "from tensorflow.keras.preprocessing.image import ImageDataGenerator\n",
    "import numpy as np"
   ]
  },
  {
   "cell_type": "code",
   "execution_count": 26,
   "id": "da0cd40f",
   "metadata": {},
   "outputs": [
    {
     "name": "stdout",
     "output_type": "stream",
     "text": [
      "Found 9144 images belonging to 102 classes.\n"
     ]
    }
   ],
   "source": [
    "dataset_dir = \"Ass6\\caltech-101-img\"\n",
    "dataset_datagen = ImageDataGenerator(\n",
    "    rescale=1.0 / 255,\n",
    ")\n",
    "\n",
    "# here batch_size is the number of images in each batch\n",
    "batch_size = 2000\n",
    "dataset_generator = dataset_datagen.flow_from_directory(\n",
    "    dataset_dir,\n",
    "    target_size=(64, 64),\n",
    "    batch_size=batch_size,\n",
    "    class_mode='categorical'\n",
    ")"
   ]
  },
  {
   "cell_type": "code",
   "execution_count": 27,
   "id": "4ee32cee",
   "metadata": {},
   "outputs": [
    {
     "name": "stdout",
     "output_type": "stream",
     "text": [
      "2000\n",
      "2000\n"
     ]
    }
   ],
   "source": [
    "x_train, y_train =  dataset_generator[0]\n",
    "x_test, y_test = dataset_generator[1]\n",
    "\n",
    "print(len(x_train))\n",
    "print(len(x_test))"
   ]
  },
  {
   "cell_type": "code",
   "execution_count": 28,
   "id": "8066b678",
   "metadata": {},
   "outputs": [],
   "source": [
    "# Load VGG16 without top layers\n",
    "weights_path = \"Ass6/vgg16_weights_tf_dim_ordering_tf_kernels_notop.h5\"\n",
    "#http://localhost:8888/edit/Ass6/vgg16_weights_tf_dim_ordering_tf_kernels_notop.h5\n",
    "base_model = VGG16(weights=weights_path, include_top=False, input_shape=(64, 64, 3))"
   ]
  },
  {
   "cell_type": "code",
   "execution_count": 29,
   "id": "519ef29c",
   "metadata": {},
   "outputs": [],
   "source": [
    "for layer in base_model.layers:\n",
    "   layer.trainable = False"
   ]
  },
  {
   "cell_type": "code",
   "execution_count": 30,
   "id": "66d11a4f",
   "metadata": {},
   "outputs": [],
   "source": [
    "x = Flatten()(base_model.output)\n",
    "x = Dense(64, activation='relu')(x)\n",
    "predictions = Dense(102, activation='softmax')(x)\n",
    "\n",
    "# Create the model\n",
    "model = Model(inputs=base_model.input, outputs=predictions)\n",
    "# Compile the model\n",
    "model.compile(optimizer=\"adam\", loss='categorical_crossentropy', metrics=['accuracy'])"
   ]
  },
  {
   "cell_type": "code",
   "execution_count": 31,
   "id": "6e9f7ddf",
   "metadata": {},
   "outputs": [
    {
     "name": "stdout",
     "output_type": "stream",
     "text": [
      "Epoch 1/10\n",
      "32/32 [==============================] - 80s 3s/step - loss: 3.8701 - accuracy: 0.2355 - val_loss: 3.3060 - val_accuracy: 0.3090\n",
      "Epoch 2/10\n",
      "32/32 [==============================] - 80s 3s/step - loss: 2.9581 - accuracy: 0.3645 - val_loss: 2.8996 - val_accuracy: 0.3805\n",
      "Epoch 3/10\n",
      "32/32 [==============================] - 80s 3s/step - loss: 2.4669 - accuracy: 0.4745 - val_loss: 2.5997 - val_accuracy: 0.4550\n",
      "Epoch 4/10\n",
      "32/32 [==============================] - 80s 3s/step - loss: 2.1102 - accuracy: 0.5455 - val_loss: 2.3787 - val_accuracy: 0.4840\n",
      "Epoch 5/10\n",
      "32/32 [==============================] - 80s 3s/step - loss: 1.8001 - accuracy: 0.6120 - val_loss: 2.2331 - val_accuracy: 0.5120\n",
      "Epoch 6/10\n",
      "32/32 [==============================] - 79s 2s/step - loss: 1.5682 - accuracy: 0.6650 - val_loss: 2.1222 - val_accuracy: 0.5285\n",
      "Epoch 7/10\n",
      "32/32 [==============================] - 80s 3s/step - loss: 1.3764 - accuracy: 0.7055 - val_loss: 2.0189 - val_accuracy: 0.5415\n",
      "Epoch 8/10\n",
      "32/32 [==============================] - 80s 3s/step - loss: 1.2047 - accuracy: 0.7415 - val_loss: 1.9390 - val_accuracy: 0.5570\n",
      "Epoch 9/10\n",
      "32/32 [==============================] - 80s 3s/step - loss: 1.0742 - accuracy: 0.7770 - val_loss: 1.8832 - val_accuracy: 0.5645\n",
      "Epoch 10/10\n",
      "32/32 [==============================] - 80s 3s/step - loss: 0.9611 - accuracy: 0.8005 - val_loss: 1.8468 - val_accuracy: 0.5700\n"
     ]
    },
    {
     "data": {
      "text/plain": [
       "<keras.callbacks.History at 0x28d856e8a30>"
      ]
     },
     "execution_count": 31,
     "metadata": {},
     "output_type": "execute_result"
    }
   ],
   "source": [
    "# Train the model\n",
    "model.fit(x_train, y_train, batch_size=64, epochs=10, validation_data=(x_test, y_test))"
   ]
  },
  {
   "cell_type": "code",
   "execution_count": 32,
   "id": "107052cb",
   "metadata": {},
   "outputs": [
    {
     "name": "stdout",
     "output_type": "stream",
     "text": [
      "Epoch 1/10\n",
      "32/32 [==============================] - 84s 3s/step - loss: 3.1219 - accuracy: 0.3570 - val_loss: 2.3294 - val_accuracy: 0.4915\n",
      "Epoch 2/10\n",
      "32/32 [==============================] - 84s 3s/step - loss: 1.8086 - accuracy: 0.5725 - val_loss: 1.9260 - val_accuracy: 0.5585\n",
      "Epoch 3/10\n",
      "32/32 [==============================] - 84s 3s/step - loss: 1.1681 - accuracy: 0.6985 - val_loss: 1.7034 - val_accuracy: 0.6065\n",
      "Epoch 4/10\n",
      "32/32 [==============================] - 84s 3s/step - loss: 0.7554 - accuracy: 0.7980 - val_loss: 1.6063 - val_accuracy: 0.6205\n",
      "Epoch 5/10\n",
      "32/32 [==============================] - 85s 3s/step - loss: 0.4591 - accuracy: 0.8835 - val_loss: 1.6059 - val_accuracy: 0.6335\n",
      "Epoch 6/10\n",
      "32/32 [==============================] - 85s 3s/step - loss: 0.3003 - accuracy: 0.9210 - val_loss: 1.5881 - val_accuracy: 0.6385\n",
      "Epoch 7/10\n",
      "32/32 [==============================] - 85s 3s/step - loss: 0.1930 - accuracy: 0.9510 - val_loss: 1.6217 - val_accuracy: 0.6405\n",
      "Epoch 8/10\n",
      "32/32 [==============================] - 85s 3s/step - loss: 0.1083 - accuracy: 0.9700 - val_loss: 1.6350 - val_accuracy: 0.6530\n",
      "Epoch 9/10\n",
      "32/32 [==============================] - 84s 3s/step - loss: 0.0770 - accuracy: 0.9830 - val_loss: 1.7424 - val_accuracy: 0.6520\n",
      "Epoch 10/10\n",
      "32/32 [==============================] - 85s 3s/step - loss: 0.0505 - accuracy: 0.9890 - val_loss: 1.7504 - val_accuracy: 0.6445\n"
     ]
    },
    {
     "data": {
      "text/plain": [
       "<keras.callbacks.History at 0x28d964e9340>"
      ]
     },
     "execution_count": 32,
     "metadata": {},
     "output_type": "execute_result"
    }
   ],
   "source": [
    "base_model = VGG16(weights=weights_path, include_top=False, input_shape=(64, 64, 3))\n",
    "# freeze all layers first\n",
    "for layer in base_model.layers:\n",
    "   layer.trainable = False\n",
    "# unfreeze last 4 layers of base model\n",
    "for layer in base_model.layers[len(base_model.layers) - 2:]:\n",
    "   layer.trainable = True\n",
    "# fine-tuning hyper parameters\n",
    "x = Flatten()(base_model.output)\n",
    "x = Dense(512, activation='relu')(x)\n",
    "x = tf.keras.layers.Dropout(0.3)(x)\n",
    "predictions = Dense(102, activation='softmax')(x)\n",
    "\n",
    "# Create the model\n",
    "model = Model(inputs=base_model.input, outputs=predictions)\n",
    "# Compile the model\n",
    "model.compile(optimizer=Adam(learning_rate=0.001), loss='categorical_crossentropy', metrics=['accuracy'])\n",
    "# training fine tuned model\n",
    "model.fit(x_train, y_train, batch_size=64, epochs=10, validation_data=(x_test, y_test))"
   ]
  },
  {
   "cell_type": "code",
   "execution_count": 33,
   "id": "0d5f3e61",
   "metadata": {},
   "outputs": [],
   "source": [
    "import matplotlib.pyplot as plt\n"
   ]
  },
  {
   "cell_type": "code",
   "execution_count": 34,
   "id": "c6131e4c",
   "metadata": {},
   "outputs": [],
   "source": [
    "predicted_value = model.predict(x_test)"
   ]
  },
  {
   "cell_type": "code",
   "execution_count": 35,
   "id": "ee3a5578",
   "metadata": {},
   "outputs": [],
   "source": [
    "labels = list(dataset_generator.class_indices.keys())"
   ]
  },
  {
   "cell_type": "code",
   "execution_count": 37,
   "id": "f07e0fcf",
   "metadata": {},
   "outputs": [
    {
     "name": "stdout",
     "output_type": "stream",
     "text": [
      "Preditcted:  brain\n",
      "Actual:  brain\n"
     ]
    },
    {
     "data": {
      "image/png": "[encoded data removed]",
      "text/plain": [
       "<Figure size 640x480 with 1 Axes>"
      ]
     },
     "metadata": {},
     "output_type": "display_data"
    }
   ],
   "source": [
    "n = 887\n",
    "plt.imshow(x_test[n])\n",
    "print(\"Preditcted: \",labels[np.argmax(predicted_value[n])])\n",
    "print(\"Actual: \", labels[np.argmax(y_test[n])])"
   ]
  }
 ],
 "metadata": {
  "kernelspec": {
   "display_name": "Python 3 (ipykernel)",
   "language": "python",
   "name": "python3"
  },
  "language_info": {
   "codemirror_mode": {
    "name": "ipython",
    "version": 3
   },
   "file_extension": ".py",
   "mimetype": "text/x-python",
   "name": "python",
   "nbconvert_exporter": "python",
   "pygments_lexer": "ipython3",
   "version": "3.8.6"
  }
 },
 "nbformat": 4,
 "nbformat_minor": 5
}
