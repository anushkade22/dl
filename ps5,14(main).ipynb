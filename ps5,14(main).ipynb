{
  "nbformat": 4,
  "nbformat_minor": 0,
  "metadata": {
    "colab": {
      "provenance": []
    },
    "kernelspec": {
      "name": "python3",
      "display_name": "Python 3"
    },
    "language_info": {
      "name": "python"
    }
  },
  "cells": [
    {
      "cell_type": "code",
      "execution_count": null,
      "metadata": {
        "id": "epJ7sfxruDrn"
      },
      "outputs": [],
      "source": [
        "import tensorflow as tf\n",
        "from tensorflow.keras import layers, models\n",
        "from sklearn.model_selection import train_test_split\n",
        "from sklearn.preprocessing import StandardScaler\n",
        "import pandas as pd\n",
        "import numpy as np"
      ]
    },
    {
      "cell_type": "code",
      "source": [
        "df = pd.read_csv(\"creditcard.csv\")"
      ],
      "metadata": {
        "id": "KpvgRsoKuW4O"
      },
      "execution_count": null,
      "outputs": []
    },
    {
      "cell_type": "code",
      "source": [
        "df.shape"
      ],
      "metadata": {
        "colab": {
          "base_uri": "https://localhost:8080/"
        },
        "id": "ceaenut8uZjf",
        "outputId": "619f7e88-b0fb-474f-db58-2f08ca15a070"
      },
      "execution_count": null,
      "outputs": [
        {
          "output_type": "execute_result",
          "data": {
            "text/plain": [
              "(284807, 31)"
            ]
          },
          "metadata": {},
          "execution_count": 16
        }
      ]
    },
    {
      "cell_type": "code",
      "source": [
        "df.columns"
      ],
      "metadata": {
        "colab": {
          "base_uri": "https://localhost:8080/"
        },
        "id": "76wDLtz1udZ2",
        "outputId": "737409c1-186c-4f29-9399-776e5a1040d1"
      },
      "execution_count": null,
      "outputs": [
        {
          "output_type": "execute_result",
          "data": {
            "text/plain": [
              "Index(['Time', 'V1', 'V2', 'V3', 'V4', 'V5', 'V6', 'V7', 'V8', 'V9', 'V10',\n",
              "       'V11', 'V12', 'V13', 'V14', 'V15', 'V16', 'V17', 'V18', 'V19', 'V20',\n",
              "       'V21', 'V22', 'V23', 'V24', 'V25', 'V26', 'V27', 'V28', 'Amount',\n",
              "       'Class'],\n",
              "      dtype='object')"
            ]
          },
          "metadata": {},
          "execution_count": 17
        }
      ]
    },
    {
      "cell_type": "code",
      "source": [
        "X = df.drop(['Class'], axis=1)\n",
        "y = df['Class']"
      ],
      "metadata": {
        "id": "a-0pmVQyuguv"
      },
      "execution_count": null,
      "outputs": []
    },
    {
      "cell_type": "code",
      "source": [
        "X_train, X_test, y_train, y_test = train_test_split(X, y, test_size=0.4, random_state=42)"
      ],
      "metadata": {
        "id": "4j0lEHLMuk1p"
      },
      "execution_count": null,
      "outputs": []
    },
    {
      "cell_type": "code",
      "source": [
        "scaler = StandardScaler()\n",
        "X_train = scaler.fit_transform(X_train)\n",
        "X_test = scaler.transform(X_test)"
      ],
      "metadata": {
        "id": "L5II18HlunU5"
      },
      "execution_count": null,
      "outputs": []
    },
    {
      "cell_type": "code",
      "source": [
        "encoding_dim = 32"
      ],
      "metadata": {
        "id": "ICw3s1HoupzV"
      },
      "execution_count": null,
      "outputs": []
    },
    {
      "cell_type": "code",
      "source": [
        "X_train.shape[1]"
      ],
      "metadata": {
        "colab": {
          "base_uri": "https://localhost:8080/"
        },
        "id": "KcqYlrv63RoM",
        "outputId": "0f844606-f2a1-45bc-d11f-f18d98510860"
      },
      "execution_count": null,
      "outputs": [
        {
          "output_type": "execute_result",
          "data": {
            "text/plain": [
              "30"
            ]
          },
          "metadata": {},
          "execution_count": 30
        }
      ]
    },
    {
      "cell_type": "code",
      "source": [
        "encoder = models.Sequential([\n",
        "    layers.Dense(encoding_dim, activation='relu', input_shape=(X_train.shape[1],)),\n",
        "])\n",
        "\n",
        "decoder = models.Sequential([\n",
        "    layers.Dense(X_train.shape[1], activation='sigmoid'),\n",
        "])"
      ],
      "metadata": {
        "id": "9u3HNn-4usle"
      },
      "execution_count": null,
      "outputs": []
    },
    {
      "cell_type": "code",
      "source": [
        "autoencoder = models.Sequential([\n",
        "    encoder,\n",
        "    decoder,\n",
        "])"
      ],
      "metadata": {
        "id": "19ZT-pFxuvQM"
      },
      "execution_count": null,
      "outputs": []
    },
    {
      "cell_type": "code",
      "source": [
        "autoencoder.compile(optimizer='adam', loss='mean_squared_error', metrics=['accuracy'])"
      ],
      "metadata": {
        "id": "yCbZ30YluyvG"
      },
      "execution_count": null,
      "outputs": []
    },
    {
      "cell_type": "code",
      "source": [
        "autoencoder.fit(X_train, X_train, epochs=10, batch_size=64, shuffle=True, validation_data=(X_test, X_test))"
      ],
      "metadata": {
        "colab": {
          "base_uri": "https://localhost:8080/"
        },
        "id": "-9m_99MKu1zJ",
        "outputId": "c93eac69-5350-43c5-adad-e4ad576c0ee6"
      },
      "execution_count": null,
      "outputs": [
        {
          "output_type": "stream",
          "name": "stdout",
          "text": [
            "Epoch 1/10\n",
            "2671/2671 [==============================] - 10s 4ms/step - loss: 0.6913 - accuracy: 0.8779 - val_loss: 0.2008 - val_accuracy: 0.0892\n",
            "Epoch 2/10\n",
            "2671/2671 [==============================] - 8s 3ms/step - loss: 0.6735 - accuracy: 0.9315 - val_loss: 0.2019 - val_accuracy: 0.0869\n",
            "Epoch 3/10\n",
            "2671/2671 [==============================] - 10s 4ms/step - loss: 0.6684 - accuracy: 0.9332 - val_loss: 0.2049 - val_accuracy: 0.0886\n",
            "Epoch 4/10\n",
            "2671/2671 [==============================] - 9s 4ms/step - loss: 0.6684 - accuracy: 0.9330 - val_loss: 0.2055 - val_accuracy: 0.0906\n",
            "Epoch 5/10\n",
            "2671/2671 [==============================] - 8s 3ms/step - loss: 0.6683 - accuracy: 0.9325 - val_loss: 0.2050 - val_accuracy: 0.0880\n",
            "Epoch 6/10\n",
            "2671/2671 [==============================] - 13s 5ms/step - loss: 0.6682 - accuracy: 0.9336 - val_loss: 0.2049 - val_accuracy: 0.0892\n",
            "Epoch 7/10\n",
            "2671/2671 [==============================] - 11s 4ms/step - loss: 0.6682 - accuracy: 0.9334 - val_loss: 0.2050 - val_accuracy: 0.0924\n",
            "Epoch 8/10\n",
            "2671/2671 [==============================] - 8s 3ms/step - loss: 0.6681 - accuracy: 0.9338 - val_loss: 0.2039 - val_accuracy: 0.0850\n",
            "Epoch 9/10\n",
            "2671/2671 [==============================] - 10s 4ms/step - loss: 0.6682 - accuracy: 0.9336 - val_loss: 0.2044 - val_accuracy: 0.0919\n",
            "Epoch 10/10\n",
            "2671/2671 [==============================] - 11s 4ms/step - loss: 0.6681 - accuracy: 0.9344 - val_loss: 0.2051 - val_accuracy: 0.0924\n"
          ]
        },
        {
          "output_type": "execute_result",
          "data": {
            "text/plain": [
              "<keras.src.callbacks.History at 0x7c6f786ff3d0>"
            ]
          },
          "metadata": {},
          "execution_count": 32
        }
      ]
    },
    {
      "cell_type": "code",
      "source": [
        "loss = autoencoder.evaluate(X_test, X_test)\n",
        "print(f'Test Loss: {loss}')\n",
        "print(loss[0])\n",
        "print(loss[1])"
      ],
      "metadata": {
        "colab": {
          "base_uri": "https://localhost:8080/"
        },
        "id": "C53UjDwb1Dbq",
        "outputId": "78cddcad-8e17-4a23-c4c6-f99000cfa17a"
      },
      "execution_count": null,
      "outputs": [
        {
          "output_type": "stream",
          "name": "stdout",
          "text": [
            "3561/3561 [==============================] - 9s 2ms/step - loss: 0.6486 - accuracy: 0.9280\n",
            "Test Loss: [0.6485553979873657, 0.9279864430427551]\n",
            "0.6485553979873657\n",
            "0.9279864430427551\n"
          ]
        }
      ]
    },
    {
      "cell_type": "code",
      "source": [
        "from sklearn.metrics import confusion_matrix, classification_report"
      ],
      "metadata": {
        "id": "ZbmDrrbU1YZo"
      },
      "execution_count": null,
      "outputs": []
    },
    {
      "cell_type": "code",
      "source": [
        "# Evaluate the model on the test set\n",
        "decoded_data = autoencoder.predict(X_test)\n",
        "mse = np.mean(np.power(X_test - decoded_data, 2), axis=1)\n",
        "threshold = np.percentile(mse, 95)  # Adjust the percentile as needed for tuning sensitivity\n",
        "\n",
        "# Identify outliers based on the threshold\n",
        "outliers = mse > threshold\n",
        "\n",
        "# Print evaluation metrics for anomaly detection\n",
        "print(\"Confusion Matrix:\\n\", confusion_matrix(y_test, outliers))\n",
        "print(\"\\nClassification Report:\\n\", classification_report(y_test, outliers))"
      ],
      "metadata": {
        "colab": {
          "base_uri": "https://localhost:8080/"
        },
        "id": "AdSx3knq1bUh",
        "outputId": "c2a2ec96-e888-4447-b32f-0b3275cdc28a"
      },
      "execution_count": null,
      "outputs": [
        {
          "output_type": "stream",
          "name": "stdout",
          "text": [
            "3561/3561 [==============================] - 6s 2ms/step\n",
            "Confusion Matrix:\n",
            " [[108204   5528]\n",
            " [    22    169]]\n",
            "\n",
            "Classification Report:\n",
            "               precision    recall  f1-score   support\n",
            "\n",
            "           0       1.00      0.95      0.97    113732\n",
            "           1       0.03      0.88      0.06       191\n",
            "\n",
            "    accuracy                           0.95    113923\n",
            "   macro avg       0.51      0.92      0.52    113923\n",
            "weighted avg       1.00      0.95      0.97    113923\n",
            "\n"
          ]
        }
      ]
    },
    {
      "cell_type": "code",
      "source": [
        "# Print the number of outliers and anomalies\n",
        "num_outliers = np.sum(outliers)\n",
        "num_anomalies = np.sum(y_test[outliers] == 1)  # Assuming 1 represents the positive class\n",
        "\n",
        "print(f'Number of outliers: {num_outliers}')\n",
        "print(f'Number of anomalies: {num_anomalies}')"
      ],
      "metadata": {
        "colab": {
          "base_uri": "https://localhost:8080/"
        },
        "id": "9vOcTJDa1i8Q",
        "outputId": "dcd30e95-8b6a-4762-e609-f25c20f88550"
      },
      "execution_count": null,
      "outputs": [
        {
          "output_type": "stream",
          "name": "stdout",
          "text": [
            "Number of outliers: 5697\n",
            "Number of anomalies: 169\n"
          ]
        }
      ]
    }
  ]
}