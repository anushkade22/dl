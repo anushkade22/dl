{
  "nbformat": 4,
  "nbformat_minor": 0,
  "metadata": {
    "colab": {
      "provenance": []
    },
    "kernelspec": {
      "name": "python3",
      "display_name": "Python 3"
    },
    "language_info": {
      "name": "python"
    }
  },
  "cells": [
    {
      "cell_type": "code",
      "execution_count": null,
      "metadata": {
        "id": "gIhDNGvkKN7d"
      },
      "outputs": [],
      "source": [
        "from sklearn.preprocessing import LabelBinarizer\n",
        "from sklearn.metrics import classification_report\n",
        "import tensorflow as tf\n",
        "from keras.models import Sequential\n",
        "from keras.layers import Dense,Conv2D,MaxPooling2D,Flatten\n",
        "from keras.datasets import mnist\n",
        "import matplotlib.pyplot as plt\n",
        "import numpy as np"
      ]
    },
    {
      "cell_type": "code",
      "source": [
        "((X_train, Y_train), (X_test, Y_test)) = mnist.load_data()"
      ],
      "metadata": {
        "colab": {
          "base_uri": "https://localhost:8080/"
        },
        "id": "gZWaohtJUaij",
        "outputId": "3ac41686-7502-46fb-caa4-31ab1a0e4f28"
      },
      "execution_count": null,
      "outputs": [
        {
          "output_type": "stream",
          "name": "stdout",
          "text": [
            "Downloading data from https://storage.googleapis.com/tensorflow/tf-keras-datasets/mnist.npz\n",
            "11490434/11490434 [==============================] - 0s 0us/step\n"
          ]
        }
      ]
    },
    {
      "cell_type": "code",
      "source": [
        "# train= pd.read_csv('mnist_train.csv')\n",
        "# train\n",
        "# test = pd.read_csv('mnist_test.csv')\n",
        "# test\n",
        "# x_train = train.drop(['label'],axis=1).values\n",
        "# y_train = train['label'].values\n",
        "# x_test = test.drop(['label'],axis=1).values\n",
        "# y_test = test['label'].values"
      ],
      "metadata": {
        "id": "kLRPXbadS1XM"
      },
      "execution_count": null,
      "outputs": []
    },
    {
      "cell_type": "code",
      "source": [
        "X_train[0].shape"
      ],
      "metadata": {
        "colab": {
          "base_uri": "https://localhost:8080/"
        },
        "id": "pOrYz_2xUgaE",
        "outputId": "01d6d9d2-3fd1-4bcd-a30f-bed0acef320e"
      },
      "execution_count": null,
      "outputs": [
        {
          "output_type": "execute_result",
          "data": {
            "text/plain": [
              "(28, 28)"
            ]
          },
          "metadata": {},
          "execution_count": 4
        }
      ]
    },
    {
      "cell_type": "code",
      "source": [
        "X_train = X_train.astype(\"float32\") / 255.0\n",
        "X_test = X_test.astype(\"float32\") / 255.0"
      ],
      "metadata": {
        "id": "7xjPnAqRUl1w"
      },
      "execution_count": null,
      "outputs": []
    },
    {
      "cell_type": "code",
      "source": [
        "lb = LabelBinarizer()\n",
        "Y_train = lb.fit_transform(Y_train)\n",
        "Y_test = lb.transform(Y_test)"
      ],
      "metadata": {
        "id": "aSDkiB4rUtbR"
      },
      "execution_count": null,
      "outputs": []
    },
    {
      "cell_type": "code",
      "source": [
        "x_train = x_train.reshape((60000, 28, 28, 1))\n",
        "x_test = x_test.reshape((10000, 28, 28, 1))"
      ],
      "metadata": {
        "id": "4IDLsfbKTDRt"
      },
      "execution_count": null,
      "outputs": []
    },
    {
      "cell_type": "code",
      "source": [
        "Y_train"
      ],
      "metadata": {
        "colab": {
          "base_uri": "https://localhost:8080/"
        },
        "id": "m-e1xrg9VBri",
        "outputId": "658bc1f9-647f-4072-a9fd-bb1c4f46796b"
      },
      "execution_count": null,
      "outputs": [
        {
          "output_type": "execute_result",
          "data": {
            "text/plain": [
              "array([[0, 0, 0, ..., 0, 0, 0],\n",
              "       [1, 0, 0, ..., 0, 0, 0],\n",
              "       [0, 0, 0, ..., 0, 0, 0],\n",
              "       ...,\n",
              "       [0, 0, 0, ..., 0, 0, 0],\n",
              "       [0, 0, 0, ..., 0, 0, 0],\n",
              "       [0, 0, 0, ..., 0, 1, 0]])"
            ]
          },
          "metadata": {},
          "execution_count": 7
        }
      ]
    },
    {
      "cell_type": "code",
      "source": [
        "model = Sequential()\n",
        "model.add(Conv2D(32, (3, 3), activation='relu', input_shape=(28,28,1)))\n",
        "model.add(MaxPooling2D((2, 2)))\n",
        "model.add(Conv2D(64, (3, 3), activation='relu'))\n",
        "model.add(MaxPooling2D((2, 2)))\n",
        "model.add(Flatten())\n",
        "model.add(Dense(64, activation='relu'))\n",
        "model.add(Dense(10, activation = 'softmax'))\n",
        "\n",
        "model.summary()"
      ],
      "metadata": {
        "colab": {
          "base_uri": "https://localhost:8080/"
        },
        "id": "i2ARdkjwVDlr",
        "outputId": "c2e56cb3-ebbe-4222-8d1f-6aa07c16cab1"
      },
      "execution_count": null,
      "outputs": [
        {
          "output_type": "stream",
          "name": "stdout",
          "text": [
            "Model: \"sequential\"\n",
            "_________________________________________________________________\n",
            " Layer (type)                Output Shape              Param #   \n",
            "=================================================================\n",
            " conv2d (Conv2D)             (None, 26, 26, 32)        320       \n",
            "                                                                 \n",
            " max_pooling2d (MaxPooling2  (None, 13, 13, 32)        0         \n",
            " D)                                                              \n",
            "                                                                 \n",
            " conv2d_1 (Conv2D)           (None, 11, 11, 64)        18496     \n",
            "                                                                 \n",
            " max_pooling2d_1 (MaxPoolin  (None, 5, 5, 64)          0         \n",
            " g2D)                                                            \n",
            "                                                                 \n",
            " flatten (Flatten)           (None, 1600)              0         \n",
            "                                                                 \n",
            " dense (Dense)               (None, 64)                102464    \n",
            "                                                                 \n",
            " dense_1 (Dense)             (None, 10)                650       \n",
            "                                                                 \n",
            "=================================================================\n",
            "Total params: 121930 (476.29 KB)\n",
            "Trainable params: 121930 (476.29 KB)\n",
            "Non-trainable params: 0 (0.00 Byte)\n",
            "_________________________________________________________________\n"
          ]
        }
      ]
    },
    {
      "cell_type": "code",
      "source": [
        "model.compile(optimizer='sgd',loss=\"categorical_crossentropy\",metrics=['accuracy'])\n",
        "h = model.fit(X_train,Y_train, epochs=10, validation_data=(X_test,Y_test),batch_size=128)"
      ],
      "metadata": {
        "colab": {
          "base_uri": "https://localhost:8080/"
        },
        "id": "RvgAzV2jVMAL",
        "outputId": "c7867060-4a72-4422-800a-8286cc52e2bc"
      },
      "execution_count": null,
      "outputs": [
        {
          "output_type": "stream",
          "name": "stdout",
          "text": [
            "Epoch 1/10\n",
            "469/469 [==============================] - 44s 93ms/step - loss: 1.2846 - accuracy: 0.6573 - val_loss: 0.4064 - val_accuracy: 0.8834\n",
            "Epoch 2/10\n",
            "469/469 [==============================] - 46s 97ms/step - loss: 0.3383 - accuracy: 0.8993 - val_loss: 0.2538 - val_accuracy: 0.9237\n",
            "Epoch 3/10\n",
            "469/469 [==============================] - 44s 93ms/step - loss: 0.2446 - accuracy: 0.9271 - val_loss: 0.2112 - val_accuracy: 0.9372\n",
            "Epoch 4/10\n",
            "469/469 [==============================] - 43s 92ms/step - loss: 0.1924 - accuracy: 0.9430 - val_loss: 0.1604 - val_accuracy: 0.9534\n",
            "Epoch 5/10\n",
            "469/469 [==============================] - 43s 91ms/step - loss: 0.1578 - accuracy: 0.9538 - val_loss: 0.1295 - val_accuracy: 0.9612\n",
            "Epoch 6/10\n",
            "469/469 [==============================] - 44s 94ms/step - loss: 0.1361 - accuracy: 0.9600 - val_loss: 0.1117 - val_accuracy: 0.9664\n",
            "Epoch 7/10\n",
            "469/469 [==============================] - 45s 95ms/step - loss: 0.1202 - accuracy: 0.9648 - val_loss: 0.1080 - val_accuracy: 0.9674\n",
            "Epoch 8/10\n",
            "469/469 [==============================] - 44s 93ms/step - loss: 0.1077 - accuracy: 0.9676 - val_loss: 0.0894 - val_accuracy: 0.9735\n",
            "Epoch 9/10\n",
            "469/469 [==============================] - 45s 97ms/step - loss: 0.0982 - accuracy: 0.9703 - val_loss: 0.0846 - val_accuracy: 0.9731\n",
            "Epoch 10/10\n",
            "469/469 [==============================] - 45s 95ms/step - loss: 0.0907 - accuracy: 0.9728 - val_loss: 0.0785 - val_accuracy: 0.9751\n"
          ]
        }
      ]
    },
    {
      "cell_type": "code",
      "source": [
        "plt.figure()\n",
        "plt.plot(np.arange(0, 10), h.history[\"loss\"], label=\"train_loss\")\n",
        "plt.plot(np.arange(0, 10), h.history[\"val_loss\"], label=\"val_loss\")\n",
        "plt.plot(np.arange(0, 10), h.history[\"accuracy\"], label=\"train_acc\")\n",
        "plt.plot(np.arange(0, 10), h.history[\"val_accuracy\"], label=\"val_acc\")\n",
        "plt.title(\"Training Loss and Accuracy\")\n",
        "plt.xlabel(\"Epoch #\")\n",
        "plt.ylabel(\"Loss/Accuracy\")\n",
        "plt.legend()"
      ],
      "metadata": {
        "colab": {
          "base_uri": "https://localhost:8080/",
          "height": 489
        },
        "id": "-Pp2E4ftW9Ny",
        "outputId": "cec51b6f-e73b-409a-cbfc-19dc6c292fec"
      },
      "execution_count": null,
      "outputs": [
        {
          "output_type": "execute_result",
          "data": {
            "text/plain": [
              "<matplotlib.legend.Legend at 0x7a68c80db820>"
            ]
          },
          "metadata": {},
          "execution_count": 10
        },
        {
          "output_type": "display_data",
          "data": {
            "text/plain": [
              "<Figure size 640x480 with 1 Axes>"
            ],
            "image/png": "[encoded data removed]"
          },
          "metadata": {}
        }
      ]
    }
  ]
}